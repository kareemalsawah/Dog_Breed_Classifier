{
 "cells": [
  {
   "cell_type": "markdown",
   "metadata": {},
   "source": [
    "### Predicting dog breeds using a CNN (Convolutional Neural Network) and transfer learning\n",
    "\n",
    "This project aims to classify the breed of a dog from breeds given its image. This is done using CNNs and transfer learning."
   ]
  },
  {
   "cell_type": "code",
   "execution_count": 1,
   "metadata": {},
   "outputs": [
    {
     "name": "stdout",
     "output_type": "stream",
     "text": [
      "There are 13233 total human images.\n",
      "There are 8351 total dog images.\n"
     ]
    }
   ],
   "source": [
    "import numpy as np\n",
    "from glob import glob\n",
    "\n",
    "# load filenames for human and dog images\n",
    "human_files = np.array(glob(\"lfw/*/*\"))\n",
    "dog_files = np.array(glob(\"dogImages/*/*/*\"))\n",
    "\n",
    "\n",
    "# print number of images in each dataset\n",
    "print('There are %d total human images.' % len(human_files))\n",
    "print('There are %d total dog images.' % len(dog_files))"
   ]
  },
  {
   "cell_type": "code",
   "execution_count": 2,
   "metadata": {},
   "outputs": [],
   "source": [
    "import torch\n",
    "import torchvision.models as models\n",
    "from PIL import Image\n",
    "import torchvision.transforms as transforms\n",
    "\n",
    "# define VGG16 model\n",
    "VGG16 = models.vgg16(pretrained=True)\n",
    "\n",
    "# check if CUDA is available\n",
    "use_cuda = torch.cuda.is_available()\n",
    "\n",
    "# move model to GPU if CUDA is available\n",
    "if use_cuda:\n",
    "    VGG16 = VGG16.cuda()\n",
    "    \n",
    "\n",
    "'''\n",
    "    Use pre-trained VGG-16 model to classify a given image as either contains a dog or doesn't contain a dog\n",
    "    \n",
    "    Args:\n",
    "        img_path: path to an image\n",
    "    \n",
    "        \n",
    "    Returns:\n",
    "        Whether the image contains a dog or not\n",
    "    '''\n",
    "def dog_detector(img_path):\n",
    "    \n",
    "\n",
    "    train_transforms = transforms.Compose([transforms.ToPILImage(),\n",
    "                                transforms.RandomRotation((90,90)),\n",
    "                                transforms.Resize(224),\n",
    "                                transforms.CenterCrop(224),\n",
    "                                transforms.ToTensor(),\n",
    "                                transforms.Normalize(mean=[0.485, 0.456, 0.406],\n",
    "                                 std=[0.229, 0.224, 0.225])])\n",
    "    img = plt.imread(img_path)\n",
    "    img_transformed = train_transforms(img)\n",
    "    img_transformed = img_transformed.unsqueeze(0).cuda()\n",
    "    prediction = VGG16(img_transformed).detach().cpu().numpy()\n",
    "    topClass = np.argmax(prediction, axis=1)\n",
    "    if topClass>=151 and topClass <= 268:\n",
    "        return True\n",
    "    return False"
   ]
  },
  {
   "cell_type": "code",
   "execution_count": 3,
   "metadata": {},
   "outputs": [],
   "source": [
    "import os\n",
    "from torchvision import datasets\n",
    "from PIL import ImageFile\n",
    "\n",
    "ImageFile.LOAD_TRUNCATED_IMAGES = True\n",
    "\n",
    "img_size = 224 # Size all images are resized to (all images will be resized to img_sizeximg-size)\n",
    "batch_size = 32 # Number of images per batch\n",
    "img_mean = [0.485, 0.456, 0.406]\n",
    "img_std = [0.229, 0.224, 0.225]\n",
    "\n",
    "# Function to apply transforms to the training data\n",
    "train_transforms = transforms.Compose([\n",
    "    transforms.Resize(img_size),\n",
    "    transforms.RandomResizedCrop(img_size),\n",
    "    transforms.RandomHorizontalFlip(),\n",
    "    transforms.RandomRotation(10),\n",
    "    transforms.ToTensor(),\n",
    "    transforms.Normalize(img_mean, img_std)\n",
    "])\n",
    "\n",
    "# Function to apply transforms to the validtion/testing data\n",
    "val_transforms = transforms.Compose([\n",
    "    transforms.Resize(img_size),\n",
    "    transforms.CenterCrop(img_size),\n",
    "    transforms.ToTensor(),\n",
    "    transforms.Normalize(img_mean, img_std)\n",
    "])\n",
    "\n",
    "data_dir = './dogImages'\n",
    "traindir = os.path.join(data_dir,'train')\n",
    "validdir = os.path.join(data_dir,'valid')\n",
    "testdir = os.path.join(data_dir,'test')\n",
    "\n",
    "# Creating training, validation, and testing datasets\n",
    "train_data = datasets.ImageFolder(traindir, transform=train_transforms)\n",
    "valid_data = datasets.ImageFolder(validdir, transform=val_transforms)\n",
    "test_data = datasets.ImageFolder(testdir, transform=val_transforms)\n",
    "\n",
    "# Creating training, validation and testing dataloaders\n",
    "trainloader = torch.utils.data.DataLoader(train_data, batch_size=batch_size,shuffle=True,num_workers=8)\n",
    "validloader = torch.utils.data.DataLoader(valid_data, batch_size=batch_size,num_workers=1)\n",
    "testloader = torch.utils.data.DataLoader(test_data, batch_size=batch_size,num_workers=1)\n",
    "\n",
    "# loaders object has all 3 dataloaders (training, validation, and testing)\n",
    "loaders = {\n",
    "    'train':trainloader,\n",
    "    'valid':validloader,\n",
    "    'test':testloader\n",
    "}"
   ]
  },
  {
   "cell_type": "code",
   "execution_count": 1,
   "metadata": {},
   "outputs": [],
   "source": [
    "from tqdm import tqdm\n",
    "\n",
    "'''\n",
    "Trains a model given the training hyperparameters\n",
    "\n",
    "Args:\n",
    "    n_epochs: number of epochs/iterations to run the training loop (going over all data each epoch)\n",
    "    loaders: an object that has 'train', 'valid', and 'test' dataloaders\n",
    "    model: the pytorch model to train\n",
    "    optimizer: the pytorch optimizer used to train the model (Ex: Adam, SGD)\n",
    "    scheduler: pytorch scheduler used to reduce the learning rate during training\n",
    "    criterion: the criterion used to calculate the loss (Ex: CrossEntropy, NLLLoss)\n",
    "    use_cuda: True if the training should run on the gpu. False if the training should run on the cpu\n",
    "    save_path: the path to use to save the best model\n",
    "\n",
    "Returns:\n",
    "    The model after it has been trained and saved at 'save_path'\n",
    "'''\n",
    "def train(n_epochs, loaders, model, optimizer, scheduler, criterion, use_cuda, save_path):\n",
    "    # Initialize tracker for minimum validation loss\n",
    "    valid_loss_min = np.Inf \n",
    "    \n",
    "    for epoch in range(1, n_epochs+1):\n",
    "        # Initialize variables to monitor training and validation loss\n",
    "        train_loss = 0.0\n",
    "        valid_loss = 0.0\n",
    "        train_corrects = 0\n",
    "        valid_corrects = 0\n",
    "        \n",
    "        scheduler.step()\n",
    "        ###################\n",
    "        # train the model #\n",
    "        ###################\n",
    "        model.train()\n",
    "        for (data, target) in tqdm(loaders['train']):\n",
    "            # move to GPU\n",
    "            if use_cuda:\n",
    "                data, target = data.cuda(), target.cuda()\n",
    "            \n",
    "            optimizer.zero_grad()\n",
    "            \n",
    "            # Find the model's prediction\n",
    "            output = model(data)\n",
    "            \n",
    "            # Find the loss and update the model parameters accordingly\n",
    "            loss = criterion(output,target)\n",
    "            loss.backward()\n",
    "            optimizer.step()\n",
    "            \n",
    "             # Update the average training loss\n",
    "            train_loss += loss.item()\n",
    "            \n",
    "            # Update the average training accuracy\n",
    "            pred = output.data.max(1, keepdim=True)[1]\n",
    "            train_corrects += np.sum(np.squeeze(pred.eq(target.data.view_as(pred))).cpu().numpy())\n",
    "            \n",
    "           \n",
    "        \n",
    "        ######################    \n",
    "        # validate the model #\n",
    "        ######################\n",
    "        model.eval()\n",
    "        for (data, target) in tqdm(loaders['valid']):\n",
    "            # move to GPU\n",
    "            if use_cuda:\n",
    "                data, target = data.cuda(), target.cuda()\n",
    "            \n",
    "            # Find the model's prediction\n",
    "            output = model(data)\n",
    "            \n",
    "            # Find the loss and update the average validation loss\n",
    "            loss = criterion(output,target)\n",
    "            valid_loss += loss.item()\n",
    "            \n",
    "            # Update the validation accuracy\n",
    "            pred = output.data.max(1, keepdim=True)[1]\n",
    "            valid_corrects += np.sum(np.squeeze(pred.eq(target.data.view_as(pred))).cpu().numpy())\n",
    "\n",
    "            \n",
    "        train_loss = train_loss / len(loaders['train'])\n",
    "        trainAcc = train_corrects/len(loaders['train'])\n",
    "        valid_loss = valid_loss/(len(loaders['valid']))\n",
    "        validAcc = valid_corrects/len(loaders['valid'])\n",
    "        \n",
    "        # Print training/validation statistics \n",
    "        print('Epoch: {} \\nTraining Loss: {:.6f} \\tTraining Accuracy: {:.6f} \\tValidation Loss: {:.6f} \\tValidation Accuracy: {:.6f}'.format(\n",
    "            epoch, \n",
    "            train_loss,\n",
    "            trainAcc,\n",
    "            valid_loss,\n",
    "            validAcc\n",
    "            ))\n",
    "        \n",
    "        # Save the model if validation loss has decreased\n",
    "        if valid_loss < valid_loss_min:\n",
    "            valid_loss_min = valid_loss\n",
    "            \n",
    "            # Save the model\n",
    "            checkpoint = model.state_dict()\n",
    "            torch.save(checkpoint, save_path)\n",
    "            \n",
    "    print(\"The best model had validation loss = \"+str(valid_loss_min)) \n",
    "            \n",
    "    # Return trained model\n",
    "    return model\n",
    "\n",
    "'''\n",
    "Tests a model given testing data and prints the testing loss and accuracy\n",
    "\n",
    "Args:\n",
    "    loaders: an object that has 'train', 'valid', and 'test' dataloaders\n",
    "    model: the pytorch model to train\n",
    "    criterion: the criterion used to calculate the loss (Ex: CrossEntropy, NLLLoss)\n",
    "    use_cuda: True if the training should run on the gpu. False if the training should run on the cpu\n",
    "\n",
    "\n",
    "'''\n",
    "def test(loaders, model, criterion, use_cuda):\n",
    "\n",
    "    # Monitor test loss and accuracy\n",
    "    test_loss = 0.\n",
    "    correct = 0.\n",
    "    total = 0.\n",
    "\n",
    "    model.eval()\n",
    "    for batch_idx, (data, target) in enumerate(loaders['test']):\n",
    "        # Move to GPU\n",
    "        if use_cuda:\n",
    "            data, target = data.cuda(), target.cuda()\n",
    "        \n",
    "        # Find the model's prediction\n",
    "        output = model(data)\n",
    "        \n",
    "        # Calculate the loss\n",
    "        loss = criterion(output, target)\n",
    "        \n",
    "        # Update average test loss \n",
    "        test_loss = test_loss + ((1 / (batch_idx + 1)) * (loss.data - test_loss))\n",
    "        \n",
    "        # Update the test accuracy\n",
    "        pred = output.data.max(1, keepdim=True)[1]\n",
    "        correct += np.sum(np.squeeze(pred.eq(target.data.view_as(pred))).cpu().numpy())\n",
    "        total += data.size(0)\n",
    "     \n",
    "    # Print test loss and accuracy\n",
    "    print('Test Loss: {:.6f}\\n'.format(test_loss))\n",
    "    print('\\nTest Accuracy: %2d%% (%2d/%2d)' % (\n",
    "        100. * correct / total, correct, total))"
   ]
  },
  {
   "cell_type": "markdown",
   "metadata": {},
   "source": [
    "#### I will be using the resnet50 architecure and will use a model that is pretrained on ImageNet"
   ]
  },
  {
   "cell_type": "code",
   "execution_count": 5,
   "metadata": {},
   "outputs": [
    {
     "name": "stdout",
     "output_type": "stream",
     "text": [
      "ResNet(\n",
      "  (conv1): Conv2d(3, 64, kernel_size=(7, 7), stride=(2, 2), padding=(3, 3), bias=False)\n",
      "  (bn1): BatchNorm2d(64, eps=1e-05, momentum=0.1, affine=True, track_running_stats=True)\n",
      "  (relu): ReLU(inplace)\n",
      "  (maxpool): MaxPool2d(kernel_size=3, stride=2, padding=1, dilation=1, ceil_mode=False)\n",
      "  (layer1): Sequential(\n",
      "    (0): Bottleneck(\n",
      "      (conv1): Conv2d(64, 64, kernel_size=(1, 1), stride=(1, 1), bias=False)\n",
      "      (bn1): BatchNorm2d(64, eps=1e-05, momentum=0.1, affine=True, track_running_stats=True)\n",
      "      (conv2): Conv2d(64, 64, kernel_size=(3, 3), stride=(1, 1), padding=(1, 1), bias=False)\n",
      "      (bn2): BatchNorm2d(64, eps=1e-05, momentum=0.1, affine=True, track_running_stats=True)\n",
      "      (conv3): Conv2d(64, 256, kernel_size=(1, 1), stride=(1, 1), bias=False)\n",
      "      (bn3): BatchNorm2d(256, eps=1e-05, momentum=0.1, affine=True, track_running_stats=True)\n",
      "      (relu): ReLU(inplace)\n",
      "      (downsample): Sequential(\n",
      "        (0): Conv2d(64, 256, kernel_size=(1, 1), stride=(1, 1), bias=False)\n",
      "        (1): BatchNorm2d(256, eps=1e-05, momentum=0.1, affine=True, track_running_stats=True)\n",
      "      )\n",
      "    )\n",
      "    (1): Bottleneck(\n",
      "      (conv1): Conv2d(256, 64, kernel_size=(1, 1), stride=(1, 1), bias=False)\n",
      "      (bn1): BatchNorm2d(64, eps=1e-05, momentum=0.1, affine=True, track_running_stats=True)\n",
      "      (conv2): Conv2d(64, 64, kernel_size=(3, 3), stride=(1, 1), padding=(1, 1), bias=False)\n",
      "      (bn2): BatchNorm2d(64, eps=1e-05, momentum=0.1, affine=True, track_running_stats=True)\n",
      "      (conv3): Conv2d(64, 256, kernel_size=(1, 1), stride=(1, 1), bias=False)\n",
      "      (bn3): BatchNorm2d(256, eps=1e-05, momentum=0.1, affine=True, track_running_stats=True)\n",
      "      (relu): ReLU(inplace)\n",
      "    )\n",
      "    (2): Bottleneck(\n",
      "      (conv1): Conv2d(256, 64, kernel_size=(1, 1), stride=(1, 1), bias=False)\n",
      "      (bn1): BatchNorm2d(64, eps=1e-05, momentum=0.1, affine=True, track_running_stats=True)\n",
      "      (conv2): Conv2d(64, 64, kernel_size=(3, 3), stride=(1, 1), padding=(1, 1), bias=False)\n",
      "      (bn2): BatchNorm2d(64, eps=1e-05, momentum=0.1, affine=True, track_running_stats=True)\n",
      "      (conv3): Conv2d(64, 256, kernel_size=(1, 1), stride=(1, 1), bias=False)\n",
      "      (bn3): BatchNorm2d(256, eps=1e-05, momentum=0.1, affine=True, track_running_stats=True)\n",
      "      (relu): ReLU(inplace)\n",
      "    )\n",
      "  )\n",
      "  (layer2): Sequential(\n",
      "    (0): Bottleneck(\n",
      "      (conv1): Conv2d(256, 128, kernel_size=(1, 1), stride=(1, 1), bias=False)\n",
      "      (bn1): BatchNorm2d(128, eps=1e-05, momentum=0.1, affine=True, track_running_stats=True)\n",
      "      (conv2): Conv2d(128, 128, kernel_size=(3, 3), stride=(2, 2), padding=(1, 1), bias=False)\n",
      "      (bn2): BatchNorm2d(128, eps=1e-05, momentum=0.1, affine=True, track_running_stats=True)\n",
      "      (conv3): Conv2d(128, 512, kernel_size=(1, 1), stride=(1, 1), bias=False)\n",
      "      (bn3): BatchNorm2d(512, eps=1e-05, momentum=0.1, affine=True, track_running_stats=True)\n",
      "      (relu): ReLU(inplace)\n",
      "      (downsample): Sequential(\n",
      "        (0): Conv2d(256, 512, kernel_size=(1, 1), stride=(2, 2), bias=False)\n",
      "        (1): BatchNorm2d(512, eps=1e-05, momentum=0.1, affine=True, track_running_stats=True)\n",
      "      )\n",
      "    )\n",
      "    (1): Bottleneck(\n",
      "      (conv1): Conv2d(512, 128, kernel_size=(1, 1), stride=(1, 1), bias=False)\n",
      "      (bn1): BatchNorm2d(128, eps=1e-05, momentum=0.1, affine=True, track_running_stats=True)\n",
      "      (conv2): Conv2d(128, 128, kernel_size=(3, 3), stride=(1, 1), padding=(1, 1), bias=False)\n",
      "      (bn2): BatchNorm2d(128, eps=1e-05, momentum=0.1, affine=True, track_running_stats=True)\n",
      "      (conv3): Conv2d(128, 512, kernel_size=(1, 1), stride=(1, 1), bias=False)\n",
      "      (bn3): BatchNorm2d(512, eps=1e-05, momentum=0.1, affine=True, track_running_stats=True)\n",
      "      (relu): ReLU(inplace)\n",
      "    )\n",
      "    (2): Bottleneck(\n",
      "      (conv1): Conv2d(512, 128, kernel_size=(1, 1), stride=(1, 1), bias=False)\n",
      "      (bn1): BatchNorm2d(128, eps=1e-05, momentum=0.1, affine=True, track_running_stats=True)\n",
      "      (conv2): Conv2d(128, 128, kernel_size=(3, 3), stride=(1, 1), padding=(1, 1), bias=False)\n",
      "      (bn2): BatchNorm2d(128, eps=1e-05, momentum=0.1, affine=True, track_running_stats=True)\n",
      "      (conv3): Conv2d(128, 512, kernel_size=(1, 1), stride=(1, 1), bias=False)\n",
      "      (bn3): BatchNorm2d(512, eps=1e-05, momentum=0.1, affine=True, track_running_stats=True)\n",
      "      (relu): ReLU(inplace)\n",
      "    )\n",
      "    (3): Bottleneck(\n",
      "      (conv1): Conv2d(512, 128, kernel_size=(1, 1), stride=(1, 1), bias=False)\n",
      "      (bn1): BatchNorm2d(128, eps=1e-05, momentum=0.1, affine=True, track_running_stats=True)\n",
      "      (conv2): Conv2d(128, 128, kernel_size=(3, 3), stride=(1, 1), padding=(1, 1), bias=False)\n",
      "      (bn2): BatchNorm2d(128, eps=1e-05, momentum=0.1, affine=True, track_running_stats=True)\n",
      "      (conv3): Conv2d(128, 512, kernel_size=(1, 1), stride=(1, 1), bias=False)\n",
      "      (bn3): BatchNorm2d(512, eps=1e-05, momentum=0.1, affine=True, track_running_stats=True)\n",
      "      (relu): ReLU(inplace)\n",
      "    )\n",
      "  )\n",
      "  (layer3): Sequential(\n",
      "    (0): Bottleneck(\n",
      "      (conv1): Conv2d(512, 256, kernel_size=(1, 1), stride=(1, 1), bias=False)\n",
      "      (bn1): BatchNorm2d(256, eps=1e-05, momentum=0.1, affine=True, track_running_stats=True)\n",
      "      (conv2): Conv2d(256, 256, kernel_size=(3, 3), stride=(2, 2), padding=(1, 1), bias=False)\n",
      "      (bn2): BatchNorm2d(256, eps=1e-05, momentum=0.1, affine=True, track_running_stats=True)\n",
      "      (conv3): Conv2d(256, 1024, kernel_size=(1, 1), stride=(1, 1), bias=False)\n",
      "      (bn3): BatchNorm2d(1024, eps=1e-05, momentum=0.1, affine=True, track_running_stats=True)\n",
      "      (relu): ReLU(inplace)\n",
      "      (downsample): Sequential(\n",
      "        (0): Conv2d(512, 1024, kernel_size=(1, 1), stride=(2, 2), bias=False)\n",
      "        (1): BatchNorm2d(1024, eps=1e-05, momentum=0.1, affine=True, track_running_stats=True)\n",
      "      )\n",
      "    )\n",
      "    (1): Bottleneck(\n",
      "      (conv1): Conv2d(1024, 256, kernel_size=(1, 1), stride=(1, 1), bias=False)\n",
      "      (bn1): BatchNorm2d(256, eps=1e-05, momentum=0.1, affine=True, track_running_stats=True)\n",
      "      (conv2): Conv2d(256, 256, kernel_size=(3, 3), stride=(1, 1), padding=(1, 1), bias=False)\n",
      "      (bn2): BatchNorm2d(256, eps=1e-05, momentum=0.1, affine=True, track_running_stats=True)\n",
      "      (conv3): Conv2d(256, 1024, kernel_size=(1, 1), stride=(1, 1), bias=False)\n",
      "      (bn3): BatchNorm2d(1024, eps=1e-05, momentum=0.1, affine=True, track_running_stats=True)\n",
      "      (relu): ReLU(inplace)\n",
      "    )\n",
      "    (2): Bottleneck(\n",
      "      (conv1): Conv2d(1024, 256, kernel_size=(1, 1), stride=(1, 1), bias=False)\n",
      "      (bn1): BatchNorm2d(256, eps=1e-05, momentum=0.1, affine=True, track_running_stats=True)\n",
      "      (conv2): Conv2d(256, 256, kernel_size=(3, 3), stride=(1, 1), padding=(1, 1), bias=False)\n",
      "      (bn2): BatchNorm2d(256, eps=1e-05, momentum=0.1, affine=True, track_running_stats=True)\n",
      "      (conv3): Conv2d(256, 1024, kernel_size=(1, 1), stride=(1, 1), bias=False)\n",
      "      (bn3): BatchNorm2d(1024, eps=1e-05, momentum=0.1, affine=True, track_running_stats=True)\n",
      "      (relu): ReLU(inplace)\n",
      "    )\n",
      "    (3): Bottleneck(\n",
      "      (conv1): Conv2d(1024, 256, kernel_size=(1, 1), stride=(1, 1), bias=False)\n",
      "      (bn1): BatchNorm2d(256, eps=1e-05, momentum=0.1, affine=True, track_running_stats=True)\n",
      "      (conv2): Conv2d(256, 256, kernel_size=(3, 3), stride=(1, 1), padding=(1, 1), bias=False)\n",
      "      (bn2): BatchNorm2d(256, eps=1e-05, momentum=0.1, affine=True, track_running_stats=True)\n",
      "      (conv3): Conv2d(256, 1024, kernel_size=(1, 1), stride=(1, 1), bias=False)\n",
      "      (bn3): BatchNorm2d(1024, eps=1e-05, momentum=0.1, affine=True, track_running_stats=True)\n",
      "      (relu): ReLU(inplace)\n",
      "    )\n",
      "    (4): Bottleneck(\n",
      "      (conv1): Conv2d(1024, 256, kernel_size=(1, 1), stride=(1, 1), bias=False)\n",
      "      (bn1): BatchNorm2d(256, eps=1e-05, momentum=0.1, affine=True, track_running_stats=True)\n",
      "      (conv2): Conv2d(256, 256, kernel_size=(3, 3), stride=(1, 1), padding=(1, 1), bias=False)\n",
      "      (bn2): BatchNorm2d(256, eps=1e-05, momentum=0.1, affine=True, track_running_stats=True)\n",
      "      (conv3): Conv2d(256, 1024, kernel_size=(1, 1), stride=(1, 1), bias=False)\n",
      "      (bn3): BatchNorm2d(1024, eps=1e-05, momentum=0.1, affine=True, track_running_stats=True)\n",
      "      (relu): ReLU(inplace)\n",
      "    )\n",
      "    (5): Bottleneck(\n",
      "      (conv1): Conv2d(1024, 256, kernel_size=(1, 1), stride=(1, 1), bias=False)\n",
      "      (bn1): BatchNorm2d(256, eps=1e-05, momentum=0.1, affine=True, track_running_stats=True)\n",
      "      (conv2): Conv2d(256, 256, kernel_size=(3, 3), stride=(1, 1), padding=(1, 1), bias=False)\n",
      "      (bn2): BatchNorm2d(256, eps=1e-05, momentum=0.1, affine=True, track_running_stats=True)\n",
      "      (conv3): Conv2d(256, 1024, kernel_size=(1, 1), stride=(1, 1), bias=False)\n",
      "      (bn3): BatchNorm2d(1024, eps=1e-05, momentum=0.1, affine=True, track_running_stats=True)\n",
      "      (relu): ReLU(inplace)\n",
      "    )\n",
      "  )\n",
      "  (layer4): Sequential(\n",
      "    (0): Bottleneck(\n",
      "      (conv1): Conv2d(1024, 512, kernel_size=(1, 1), stride=(1, 1), bias=False)\n",
      "      (bn1): BatchNorm2d(512, eps=1e-05, momentum=0.1, affine=True, track_running_stats=True)\n",
      "      (conv2): Conv2d(512, 512, kernel_size=(3, 3), stride=(2, 2), padding=(1, 1), bias=False)\n",
      "      (bn2): BatchNorm2d(512, eps=1e-05, momentum=0.1, affine=True, track_running_stats=True)\n",
      "      (conv3): Conv2d(512, 2048, kernel_size=(1, 1), stride=(1, 1), bias=False)\n",
      "      (bn3): BatchNorm2d(2048, eps=1e-05, momentum=0.1, affine=True, track_running_stats=True)\n",
      "      (relu): ReLU(inplace)\n",
      "      (downsample): Sequential(\n",
      "        (0): Conv2d(1024, 2048, kernel_size=(1, 1), stride=(2, 2), bias=False)\n",
      "        (1): BatchNorm2d(2048, eps=1e-05, momentum=0.1, affine=True, track_running_stats=True)\n",
      "      )\n",
      "    )\n",
      "    (1): Bottleneck(\n",
      "      (conv1): Conv2d(2048, 512, kernel_size=(1, 1), stride=(1, 1), bias=False)\n",
      "      (bn1): BatchNorm2d(512, eps=1e-05, momentum=0.1, affine=True, track_running_stats=True)\n",
      "      (conv2): Conv2d(512, 512, kernel_size=(3, 3), stride=(1, 1), padding=(1, 1), bias=False)\n",
      "      (bn2): BatchNorm2d(512, eps=1e-05, momentum=0.1, affine=True, track_running_stats=True)\n",
      "      (conv3): Conv2d(512, 2048, kernel_size=(1, 1), stride=(1, 1), bias=False)\n",
      "      (bn3): BatchNorm2d(2048, eps=1e-05, momentum=0.1, affine=True, track_running_stats=True)\n",
      "      (relu): ReLU(inplace)\n",
      "    )\n",
      "    (2): Bottleneck(\n",
      "      (conv1): Conv2d(2048, 512, kernel_size=(1, 1), stride=(1, 1), bias=False)\n",
      "      (bn1): BatchNorm2d(512, eps=1e-05, momentum=0.1, affine=True, track_running_stats=True)\n",
      "      (conv2): Conv2d(512, 512, kernel_size=(3, 3), stride=(1, 1), padding=(1, 1), bias=False)\n",
      "      (bn2): BatchNorm2d(512, eps=1e-05, momentum=0.1, affine=True, track_running_stats=True)\n",
      "      (conv3): Conv2d(512, 2048, kernel_size=(1, 1), stride=(1, 1), bias=False)\n",
      "      (bn3): BatchNorm2d(2048, eps=1e-05, momentum=0.1, affine=True, track_running_stats=True)\n",
      "      (relu): ReLU(inplace)\n",
      "    )\n",
      "  )\n",
      "  (avgpool): AvgPool2d(kernel_size=7, stride=1, padding=0)\n",
      "  (fc): Linear(in_features=2048, out_features=133, bias=True)\n"
     ]
    },
    {
     "name": "stdout",
     "output_type": "stream",
     "text": [
      ")\n"
     ]
    }
   ],
   "source": [
    "import torch.nn as nn\n",
    "\n",
    "# Specify model architecture\n",
    "model_transfer = models.resnet50(pretrained=True)\n",
    "for param in model_transfer.parameters():\n",
    "    param.requires_grad = False\n",
    "num_features = model_transfer.fc.in_features\n",
    "\n",
    "model_transfer.fc = nn.Linear(num_features,133)\n",
    "\n",
    "print(model_transfer)\n",
    "if use_cuda:\n",
    "    model_transfer = model_transfer.cuda()"
   ]
  },
  {
   "cell_type": "code",
   "execution_count": 6,
   "metadata": {},
   "outputs": [],
   "source": [
    "import torch.optim as optimizer\n",
    "\n",
    "criterion_transfer = nn.CrossEntropyLoss()\n",
    "optimizer_transfer = optimizer.Adam(model_transfer.fc.parameters(),lr=0.001)\n",
    "scheduler_transfer = optimizer.lr_scheduler.StepLR(optimizer_transfer,step_size=3,gamma=0.1)"
   ]
  },
  {
   "cell_type": "code",
   "execution_count": 7,
   "metadata": {},
   "outputs": [
    {
     "name": "stderr",
     "output_type": "stream",
     "text": [
      "100%|████████████████████████████████████████████████████████████████████████████████| 209/209 [00:56<00:00,  4.52it/s]\n",
      "100%|██████████████████████████████████████████████████████████████████████████████████| 27/27 [00:09<00:00,  2.86it/s]\n"
     ]
    },
    {
     "name": "stdout",
     "output_type": "stream",
     "text": [
      "Epoch: 1 \n",
      "Training Loss: 2.853231 \tTraining Accuracy: 12.631579 \tValidation Loss: 1.070740 \tValidation Accuracy: 22.444444\n"
     ]
    },
    {
     "name": "stderr",
     "output_type": "stream",
     "text": [
      "100%|████████████████████████████████████████████████████████████████████████████████| 209/209 [00:56<00:00,  4.51it/s]\n",
      "100%|██████████████████████████████████████████████████████████████████████████████████| 27/27 [00:09<00:00,  2.82it/s]\n"
     ]
    },
    {
     "name": "stdout",
     "output_type": "stream",
     "text": [
      "Epoch: 2 \n",
      "Training Loss: 1.533006 \tTraining Accuracy: 19.555024 \tValidation Loss: 0.712686 \tValidation Accuracy: 24.629630\n"
     ]
    },
    {
     "name": "stderr",
     "output_type": "stream",
     "text": [
      "100%|████████████████████████████████████████████████████████████████████████████████| 209/209 [00:55<00:00,  4.53it/s]\n",
      "100%|██████████████████████████████████████████████████████████████████████████████████| 27/27 [00:09<00:00,  2.90it/s]\n"
     ]
    },
    {
     "name": "stdout",
     "output_type": "stream",
     "text": [
      "Epoch: 3 \n",
      "Training Loss: 1.289965 \tTraining Accuracy: 21.177033 \tValidation Loss: 0.613274 \tValidation Accuracy: 24.740741\n"
     ]
    },
    {
     "name": "stderr",
     "output_type": "stream",
     "text": [
      "100%|████████████████████████████████████████████████████████████████████████████████| 209/209 [00:55<00:00,  4.51it/s]\n",
      "100%|██████████████████████████████████████████████████████████████████████████████████| 27/27 [00:09<00:00,  2.86it/s]\n"
     ]
    },
    {
     "name": "stdout",
     "output_type": "stream",
     "text": [
      "Epoch: 4 \n",
      "Training Loss: 1.020214 \tTraining Accuracy: 23.449761 \tValidation Loss: 0.462405 \tValidation Accuracy: 26.333333\n"
     ]
    },
    {
     "name": "stderr",
     "output_type": "stream",
     "text": [
      "100%|████████████████████████████████████████████████████████████████████████████████| 209/209 [00:55<00:00,  4.50it/s]\n",
      "100%|██████████████████████████████████████████████████████████████████████████████████| 27/27 [00:09<00:00,  2.90it/s]\n"
     ]
    },
    {
     "name": "stdout",
     "output_type": "stream",
     "text": [
      "Epoch: 5 \n",
      "Training Loss: 0.952400 \tTraining Accuracy: 24.100478 \tValidation Loss: 0.452894 \tValidation Accuracy: 26.407407\n"
     ]
    },
    {
     "name": "stderr",
     "output_type": "stream",
     "text": [
      "100%|████████████████████████████████████████████████████████████████████████████████| 209/209 [00:55<00:00,  4.53it/s]\n",
      "100%|██████████████████████████████████████████████████████████████████████████████████| 27/27 [00:09<00:00,  2.91it/s]\n"
     ]
    },
    {
     "name": "stdout",
     "output_type": "stream",
     "text": [
      "Epoch: 6 \n",
      "Training Loss: 0.997928 \tTraining Accuracy: 23.803828 \tValidation Loss: 0.467362 \tValidation Accuracy: 26.148148\n"
     ]
    },
    {
     "name": "stderr",
     "output_type": "stream",
     "text": [
      "100%|████████████████████████████████████████████████████████████████████████████████| 209/209 [00:55<00:00,  4.51it/s]\n",
      "100%|██████████████████████████████████████████████████████████████████████████████████| 27/27 [00:09<00:00,  2.88it/s]\n"
     ]
    },
    {
     "name": "stdout",
     "output_type": "stream",
     "text": [
      "Epoch: 7 \n",
      "Training Loss: 0.959308 \tTraining Accuracy: 24.291866 \tValidation Loss: 0.451636 \tValidation Accuracy: 26.370370\n"
     ]
    },
    {
     "name": "stderr",
     "output_type": "stream",
     "text": [
      "100%|████████████████████████████████████████████████████████████████████████████████| 209/209 [00:55<00:00,  4.51it/s]\n",
      "100%|██████████████████████████████████████████████████████████████████████████████████| 27/27 [00:09<00:00,  2.91it/s]\n"
     ]
    },
    {
     "name": "stdout",
     "output_type": "stream",
     "text": [
      "Epoch: 8 \n",
      "Training Loss: 0.976214 \tTraining Accuracy: 24.033493 \tValidation Loss: 0.441004 \tValidation Accuracy: 26.518519\n"
     ]
    },
    {
     "name": "stderr",
     "output_type": "stream",
     "text": [
      "100%|████████████████████████████████████████████████████████████████████████████████| 209/209 [00:55<00:00,  4.53it/s]\n",
      "100%|██████████████████████████████████████████████████████████████████████████████████| 27/27 [00:09<00:00,  2.92it/s]\n"
     ]
    },
    {
     "name": "stdout",
     "output_type": "stream",
     "text": [
      "Epoch: 9 \n",
      "Training Loss: 0.958447 \tTraining Accuracy: 24.081340 \tValidation Loss: 0.440553 \tValidation Accuracy: 26.481481\n"
     ]
    },
    {
     "name": "stderr",
     "output_type": "stream",
     "text": [
      "100%|████████████████████████████████████████████████████████████████████████████████| 209/209 [00:55<00:00,  4.51it/s]\n",
      "100%|██████████████████████████████████████████████████████████████████████████████████| 27/27 [00:09<00:00,  2.91it/s]\n"
     ]
    },
    {
     "name": "stdout",
     "output_type": "stream",
     "text": [
      "Epoch: 10 \n",
      "Training Loss: 0.951981 \tTraining Accuracy: 24.421053 \tValidation Loss: 0.446505 \tValidation Accuracy: 26.481481\n"
     ]
    },
    {
     "name": "stderr",
     "output_type": "stream",
     "text": [
      "100%|████████████████████████████████████████████████████████████████████████████████| 209/209 [00:55<00:00,  4.52it/s]\n",
      "100%|██████████████████████████████████████████████████████████████████████████████████| 27/27 [00:09<00:00,  2.88it/s]\n"
     ]
    },
    {
     "name": "stdout",
     "output_type": "stream",
     "text": [
      "Epoch: 11 \n",
      "Training Loss: 0.963007 \tTraining Accuracy: 24.129187 \tValidation Loss: 0.436511 \tValidation Accuracy: 26.481481\n"
     ]
    },
    {
     "name": "stderr",
     "output_type": "stream",
     "text": [
      "100%|████████████████████████████████████████████████████████████████████████████████| 209/209 [00:55<00:00,  4.52it/s]\n",
      "100%|██████████████████████████████████████████████████████████████████████████████████| 27/27 [00:09<00:00,  2.94it/s]\n"
     ]
    },
    {
     "name": "stdout",
     "output_type": "stream",
     "text": [
      "Epoch: 12 \n",
      "Training Loss: 0.947895 \tTraining Accuracy: 24.430622 \tValidation Loss: 0.445489 \tValidation Accuracy: 26.518519\n"
     ]
    },
    {
     "name": "stderr",
     "output_type": "stream",
     "text": [
      "100%|████████████████████████████████████████████████████████████████████████████████| 209/209 [00:55<00:00,  4.53it/s]\n",
      "100%|██████████████████████████████████████████████████████████████████████████████████| 27/27 [00:09<00:00,  2.93it/s]\n"
     ]
    },
    {
     "name": "stdout",
     "output_type": "stream",
     "text": [
      "Epoch: 13 \n",
      "Training Loss: 0.945793 \tTraining Accuracy: 24.454545 \tValidation Loss: 0.448221 \tValidation Accuracy: 26.592593\n"
     ]
    },
    {
     "name": "stderr",
     "output_type": "stream",
     "text": [
      "100%|████████████████████████████████████████████████████████████████████████████████| 209/209 [00:55<00:00,  4.52it/s]\n",
      "100%|██████████████████████████████████████████████████████████████████████████████████| 27/27 [00:09<00:00,  2.93it/s]\n"
     ]
    },
    {
     "name": "stdout",
     "output_type": "stream",
     "text": [
      "Epoch: 14 \n",
      "Training Loss: 0.954172 \tTraining Accuracy: 24.373206 \tValidation Loss: 0.435059 \tValidation Accuracy: 26.518519\n"
     ]
    },
    {
     "name": "stderr",
     "output_type": "stream",
     "text": [
      "100%|████████████████████████████████████████████████████████████████████████████████| 209/209 [00:55<00:00,  4.52it/s]\n",
      "100%|██████████████████████████████████████████████████████████████████████████████████| 27/27 [00:09<00:00,  2.92it/s]\n"
     ]
    },
    {
     "name": "stdout",
     "output_type": "stream",
     "text": [
      "Epoch: 15 \n",
      "Training Loss: 0.960732 \tTraining Accuracy: 24.229665 \tValidation Loss: 0.438782 \tValidation Accuracy: 26.444444\n",
      "The best model had validation loss = 0.43505859375\n"
     ]
    }
   ],
   "source": [
    "# Train the model\n",
    "model_transfer =  train(15, loaders, model_transfer, optimizer_transfer,scheduler_transfer, criterion_transfer, use_cuda, 'model_transfer_5.pt')\n",
    "\n",
    "# Load the model that got the best validation accuracy\n",
    "model_transfer.load_state_dict(torch.load('model_transfer_5.pt'))"
   ]
  },
  {
   "cell_type": "code",
   "execution_count": 8,
   "metadata": {},
   "outputs": [
    {
     "name": "stdout",
     "output_type": "stream",
     "text": [
      "Test Loss: 0.463371\n",
      "\n",
      "\n",
      "Test Accuracy: 87% (730/836)\n"
     ]
    }
   ],
   "source": [
    "test(loaders, model_transfer, criterion_transfer, use_cuda)"
   ]
  },
  {
   "cell_type": "code",
   "execution_count": 9,
   "metadata": {},
   "outputs": [],
   "source": [
    "from torch.autograd import Variable\n",
    "\n",
    "dog_classes = np.array(glob(\"dogImages/train/*\")) # Will contain class names with the correct indices\n",
    "for i in range(len(dog_classes)):\n",
    "    fileName = dog_classes[i]\n",
    "    startIndex = fileName.index(\".\")\n",
    "    dog_classes[i] = fileName[startIndex+1:].replace(\"_\",\" \")\n",
    "\n",
    "\n",
    "def predict_breed_transfer(img_path):\n",
    "    \n",
    "    # Load the image and return the predicted breed\n",
    "    image = Image.open(img_path)\n",
    "    image = val_transforms(image).float()\n",
    "    image = Variable(image,requires_grad = False)\n",
    "    npimg = np.transpose(image.numpy(),(2,1,0))\n",
    "    plt.imshow(npimg, interpolation=\"none\")\n",
    "    plt.axis('off')\n",
    "    image = image.unsqueeze(0).cuda()\n",
    "    output = model_transfer(image)\n",
    "    prediction = output.data.max(1, keepdim=True)[1]\n",
    "    predictedClass = dog_classes[prediction[0][0]]\n",
    "    return predictedClass\n",
    "\n",
    "def run_app(img_path):\n",
    "    dog_detected = dog_detector(img_path)\n",
    "    if dog_detected:\n",
    "        predictedBreed = predict_breed_transfer(img_path)\n",
    "        print(\"Dog detected\")\n",
    "        print(\"Its breed is \"+predictedBreed)\n",
    "    else:\n",
    "        print(\"No dog detected in the image. Please use another image\")"
   ]
  },
  {
   "cell_type": "code",
   "execution_count": 10,
   "metadata": {},
   "outputs": [
    {
     "name": "stderr",
     "output_type": "stream",
     "text": [
      "Clipping input data to the valid range for imshow with RGB data ([0..1] for floats or [0..255] for integers).\n"
     ]
    },
    {
     "name": "stdout",
     "output_type": "stream",
     "text": [
      "Dog detected\n",
      "Its breed is German shepherd dog\n"
     ]
    },
    {
     "data": {
      "image/png": "[encoded data removed]",
      "text/plain": [
       "<Figure size 432x288 with 1 Axes>"
      ]
     },
     "metadata": {
      "needs_background": "light"
     },
     "output_type": "display_data"
    }
   ],
   "source": [
    "import matplotlib.pyplot as plt\n",
    "%matplotlib inline\n",
    "\n",
    "run_app('myTests/germanPuppy.jpg')"
   ]
  }
 ],
 "metadata": {
  "kernelspec": {
   "display_name": "Python 3",
   "language": "python",
   "name": "python3"
  },
  "language_info": {
   "codemirror_mode": {
    "name": "ipython",
    "version": 3
   },
   "file_extension": ".py",
   "mimetype": "text/x-python",
   "name": "python",
   "nbconvert_exporter": "python",
   "pygments_lexer": "ipython3",
   "version": "3.7.1"
  }
 },
 "nbformat": 4,
 "nbformat_minor": 2
}
